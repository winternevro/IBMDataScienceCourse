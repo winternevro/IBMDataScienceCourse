{
 "cells": [
  {
   "cell_type": "markdown",
   "id": "281fbbd5-a4fe-4df5-a10d-2fec02fa527d",
   "metadata": {},
   "source": [
    "# Data Science Tools and Ecosystem"
   ]
  },
  {
   "cell_type": "markdown",
   "id": "c21f6a93-bc1b-4780-9586-ea817e4fb027",
   "metadata": {},
   "source": [
    "In this notebook, Data Science Tools and Ecosystem are summarized."
   ]
  },
  {
   "cell_type": "markdown",
   "id": "f300ef99-0a99-4c4c-9046-dd082c331552",
   "metadata": {},
   "source": [
    "**Objectives:**\n",
    "- List of popular langauges used by Data Scientists\n",
    "- List of commonly used libraries\n",
    "- Data Science Tools\n",
    "- Some practice with arithmetics"
   ]
  },
  {
   "cell_type": "markdown",
   "id": "d1b0cf80-aa05-489c-8bf1-5f7cfa3b1e0c",
   "metadata": {},
   "source": [
    "## Author\n",
    "Craig Wiernik"
   ]
  },
  {
   "cell_type": "markdown",
   "id": "ea3a0085-2254-411f-a74a-35ac7886971f",
   "metadata": {},
   "source": [
    "Some of the popular langauges that Data Scientists use are:\n",
    "1. Python\n",
    "2. R\n",
    "3. SQL\n",
    "4. Java\n",
    "5. C++"
   ]
  },
  {
   "cell_type": "markdown",
   "id": "ef870bcd-2c1c-4221-b1a7-100c0ce0d262",
   "metadata": {},
   "source": [
    "Some of the commonly used libraries used by Data Scientists include:\n",
    "1. NumPy\n",
    "2. Matplotlib\n",
    "3. Scipy\n",
    "4. TensorFlow\n"
   ]
  },
  {
   "cell_type": "markdown",
   "id": "a0de4f0c-974a-49ed-bcbb-da1b5bceed27",
   "metadata": {},
   "source": [
    "| Data Science Tools |\n",
    "| ------ |\n",
    "| MySQL |\n",
    "| Kafka |\n",
    "| PixieDust |"
   ]
  },
  {
   "cell_type": "markdown",
   "id": "160e46a8-32da-457e-ab7e-a48b3a30ec26",
   "metadata": {},
   "source": [
    "### Below are a few examples of evaluating arithmetic expressions in Python."
   ]
  },
  {
   "cell_type": "markdown",
   "id": "238c284b-6f72-402d-ab73-ae4e03ad2412",
   "metadata": {},
   "source": [
    "This is a simple arithmetic expression to multiply then add integers"
   ]
  },
  {
   "cell_type": "code",
   "execution_count": 3,
   "id": "6466a0cf-9ce8-42e1-87e9-a26263e6d859",
   "metadata": {},
   "outputs": [
    {
     "name": "stdout",
     "output_type": "stream",
     "text": [
      "17\n"
     ]
    }
   ],
   "source": [
    "print((3*4)+5)"
   ]
  },
  {
   "cell_type": "markdown",
   "id": "3b32dcbe-60a1-4244-ab6e-4de9697ff3df",
   "metadata": {},
   "source": [
    "This next line will convert 200 minutes into hours."
   ]
  },
  {
   "cell_type": "code",
   "execution_count": 7,
   "id": "eb085642-9661-440f-b5bb-f1ac9e66ccf0",
   "metadata": {},
   "outputs": [
    {
     "name": "stdout",
     "output_type": "stream",
     "text": [
      "3.3333333333333335\n"
     ]
    }
   ],
   "source": [
    "print((200/60))"
   ]
  },
  {
   "cell_type": "markdown",
   "id": "7cc690f1-6a2f-49ba-bc38-010af90fabe4",
   "metadata": {},
   "source": []
  }
 ],
 "metadata": {
  "kernelspec": {
   "display_name": "Python 3 (ipykernel)",
   "language": "python",
   "name": "python3"
  },
  "language_info": {
   "codemirror_mode": {
    "name": "ipython",
    "version": 3
   },
   "file_extension": ".py",
   "mimetype": "text/x-python",
   "name": "python",
   "nbconvert_exporter": "python",
   "pygments_lexer": "ipython3",
   "version": "3.11.9"
  }
 },
 "nbformat": 4,
 "nbformat_minor": 5
}
